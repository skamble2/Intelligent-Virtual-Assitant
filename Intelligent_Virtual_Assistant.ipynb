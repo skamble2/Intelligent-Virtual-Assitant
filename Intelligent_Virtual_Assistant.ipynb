{
 "cells": [
  {
   "cell_type": "code",
   "execution_count": 1,
   "id": "432c3a30",
   "metadata": {},
   "outputs": [
    {
     "name": "stdout",
     "output_type": "stream",
     "text": [
      "Requirement already satisfied: openai in c:\\users\\user1\\anaconda3\\envs\\py3.11\\lib\\site-packages (0.27.8)\n",
      "Requirement already satisfied: requests>=2.20 in c:\\users\\user1\\anaconda3\\envs\\py3.11\\lib\\site-packages (from openai) (2.29.0)\n",
      "Requirement already satisfied: tqdm in c:\\users\\user1\\anaconda3\\envs\\py3.11\\lib\\site-packages (from openai) (4.65.0)\n",
      "Requirement already satisfied: aiohttp in c:\\users\\user1\\anaconda3\\envs\\py3.11\\lib\\site-packages (from openai) (3.8.3)\n",
      "Requirement already satisfied: charset-normalizer<4,>=2 in c:\\users\\user1\\anaconda3\\envs\\py3.11\\lib\\site-packages (from requests>=2.20->openai) (2.0.4)\n",
      "Requirement already satisfied: idna<4,>=2.5 in c:\\users\\user1\\anaconda3\\envs\\py3.11\\lib\\site-packages (from requests>=2.20->openai) (3.4)\n",
      "Requirement already satisfied: urllib3<1.27,>=1.21.1 in c:\\users\\user1\\anaconda3\\envs\\py3.11\\lib\\site-packages (from requests>=2.20->openai) (1.26.16)\n",
      "Requirement already satisfied: certifi>=2017.4.17 in c:\\users\\user1\\anaconda3\\envs\\py3.11\\lib\\site-packages (from requests>=2.20->openai) (2023.5.7)\n",
      "Requirement already satisfied: attrs>=17.3.0 in c:\\users\\user1\\anaconda3\\envs\\py3.11\\lib\\site-packages (from aiohttp->openai) (22.1.0)\n",
      "Requirement already satisfied: multidict<7.0,>=4.5 in c:\\users\\user1\\anaconda3\\envs\\py3.11\\lib\\site-packages (from aiohttp->openai) (6.0.2)\n",
      "Requirement already satisfied: async-timeout<5.0,>=4.0.0a3 in c:\\users\\user1\\anaconda3\\envs\\py3.11\\lib\\site-packages (from aiohttp->openai) (4.0.2)\n",
      "Requirement already satisfied: yarl<2.0,>=1.0 in c:\\users\\user1\\anaconda3\\envs\\py3.11\\lib\\site-packages (from aiohttp->openai) (1.8.1)\n",
      "Requirement already satisfied: frozenlist>=1.1.1 in c:\\users\\user1\\anaconda3\\envs\\py3.11\\lib\\site-packages (from aiohttp->openai) (1.3.3)\n",
      "Requirement already satisfied: aiosignal>=1.1.2 in c:\\users\\user1\\anaconda3\\envs\\py3.11\\lib\\site-packages (from aiohttp->openai) (1.2.0)\n",
      "Requirement already satisfied: colorama in c:\\users\\user1\\anaconda3\\envs\\py3.11\\lib\\site-packages (from tqdm->openai) (0.4.6)\n",
      "Requirement already satisfied: scipy in c:\\users\\user1\\anaconda3\\envs\\py3.11\\lib\\site-packages (1.10.1)\n",
      "Requirement already satisfied: numpy<1.27.0,>=1.19.5 in c:\\users\\user1\\anaconda3\\envs\\py3.11\\lib\\site-packages (from scipy) (1.24.3)\n",
      "Requirement already satisfied: tenacity in c:\\users\\user1\\anaconda3\\envs\\py3.11\\lib\\site-packages (8.2.2)\n",
      "Requirement already satisfied: tiktoken in c:\\users\\user1\\anaconda3\\envs\\py3.11\\lib\\site-packages (0.4.0)\n",
      "Requirement already satisfied: regex>=2022.1.18 in c:\\users\\user1\\anaconda3\\envs\\py3.11\\lib\\site-packages (from tiktoken) (2022.7.9)\n",
      "Requirement already satisfied: requests>=2.26.0 in c:\\users\\user1\\anaconda3\\envs\\py3.11\\lib\\site-packages (from tiktoken) (2.29.0)\n",
      "Requirement already satisfied: charset-normalizer<4,>=2 in c:\\users\\user1\\anaconda3\\envs\\py3.11\\lib\\site-packages (from requests>=2.26.0->tiktoken) (2.0.4)\n",
      "Requirement already satisfied: idna<4,>=2.5 in c:\\users\\user1\\anaconda3\\envs\\py3.11\\lib\\site-packages (from requests>=2.26.0->tiktoken) (3.4)\n",
      "Requirement already satisfied: urllib3<1.27,>=1.21.1 in c:\\users\\user1\\anaconda3\\envs\\py3.11\\lib\\site-packages (from requests>=2.26.0->tiktoken) (1.26.16)\n",
      "Requirement already satisfied: certifi>=2017.4.17 in c:\\users\\user1\\anaconda3\\envs\\py3.11\\lib\\site-packages (from requests>=2.26.0->tiktoken) (2023.5.7)\n",
      "Requirement already satisfied: termcolor in c:\\users\\user1\\anaconda3\\envs\\py3.11\\lib\\site-packages (2.3.0)\n",
      "Requirement already satisfied: openai in c:\\users\\user1\\anaconda3\\envs\\py3.11\\lib\\site-packages (0.27.8)\n",
      "Requirement already satisfied: requests>=2.20 in c:\\users\\user1\\anaconda3\\envs\\py3.11\\lib\\site-packages (from openai) (2.29.0)\n",
      "Requirement already satisfied: tqdm in c:\\users\\user1\\anaconda3\\envs\\py3.11\\lib\\site-packages (from openai) (4.65.0)\n",
      "Requirement already satisfied: aiohttp in c:\\users\\user1\\anaconda3\\envs\\py3.11\\lib\\site-packages (from openai) (3.8.3)\n",
      "Requirement already satisfied: charset-normalizer<4,>=2 in c:\\users\\user1\\anaconda3\\envs\\py3.11\\lib\\site-packages (from requests>=2.20->openai) (2.0.4)\n",
      "Requirement already satisfied: idna<4,>=2.5 in c:\\users\\user1\\anaconda3\\envs\\py3.11\\lib\\site-packages (from requests>=2.20->openai) (3.4)\n",
      "Requirement already satisfied: urllib3<1.27,>=1.21.1 in c:\\users\\user1\\anaconda3\\envs\\py3.11\\lib\\site-packages (from requests>=2.20->openai) (1.26.16)\n",
      "Requirement already satisfied: certifi>=2017.4.17 in c:\\users\\user1\\anaconda3\\envs\\py3.11\\lib\\site-packages (from requests>=2.20->openai) (2023.5.7)\n",
      "Requirement already satisfied: attrs>=17.3.0 in c:\\users\\user1\\anaconda3\\envs\\py3.11\\lib\\site-packages (from aiohttp->openai) (22.1.0)\n",
      "Requirement already satisfied: multidict<7.0,>=4.5 in c:\\users\\user1\\anaconda3\\envs\\py3.11\\lib\\site-packages (from aiohttp->openai) (6.0.2)\n",
      "Requirement already satisfied: async-timeout<5.0,>=4.0.0a3 in c:\\users\\user1\\anaconda3\\envs\\py3.11\\lib\\site-packages (from aiohttp->openai) (4.0.2)\n",
      "Requirement already satisfied: yarl<2.0,>=1.0 in c:\\users\\user1\\anaconda3\\envs\\py3.11\\lib\\site-packages (from aiohttp->openai) (1.8.1)\n",
      "Requirement already satisfied: frozenlist>=1.1.1 in c:\\users\\user1\\anaconda3\\envs\\py3.11\\lib\\site-packages (from aiohttp->openai) (1.3.3)\n",
      "Requirement already satisfied: aiosignal>=1.1.2 in c:\\users\\user1\\anaconda3\\envs\\py3.11\\lib\\site-packages (from aiohttp->openai) (1.2.0)\n",
      "Requirement already satisfied: colorama in c:\\users\\user1\\anaconda3\\envs\\py3.11\\lib\\site-packages (from tqdm->openai) (0.4.6)\n",
      "Requirement already satisfied: requests in c:\\users\\user1\\anaconda3\\envs\\py3.11\\lib\\site-packages (2.29.0)\n",
      "Requirement already satisfied: charset-normalizer<4,>=2 in c:\\users\\user1\\anaconda3\\envs\\py3.11\\lib\\site-packages (from requests) (2.0.4)\n",
      "Requirement already satisfied: idna<4,>=2.5 in c:\\users\\user1\\anaconda3\\envs\\py3.11\\lib\\site-packages (from requests) (3.4)\n",
      "Requirement already satisfied: urllib3<1.27,>=1.21.1 in c:\\users\\user1\\anaconda3\\envs\\py3.11\\lib\\site-packages (from requests) (1.26.16)\n",
      "Requirement already satisfied: certifi>=2017.4.17 in c:\\users\\user1\\anaconda3\\envs\\py3.11\\lib\\site-packages (from requests) (2023.5.7)\n"
     ]
    }
   ],
   "source": [
    "!pip install openai\n",
    "!pip install scipy\n",
    "!pip install tenacity\n",
    "!pip install tiktoken\n",
    "!pip install termcolor \n",
    "!pip install openai\n",
    "!pip install requests"
   ]
  },
  {
   "cell_type": "code",
   "execution_count": 2,
   "id": "5c35fb19",
   "metadata": {},
   "outputs": [],
   "source": [
    "import os\n",
    "import openai\n",
    "\n",
    "import json\n",
    "import openai\n",
    "import requests\n",
    "from tenacity import retry, wait_random_exponential, stop_after_attempt\n",
    "from termcolor import colored\n",
    "\n",
    "GPT_MODEL = \"gpt-3.5-turbo\"\n",
    "\n",
    "\n",
    "openai.api_key = os.getenv(\"OPENAI_API_KEY\")\n",
    "\n"
   ]
  },
  {
   "cell_type": "code",
   "execution_count": 3,
   "id": "f5009f92",
   "metadata": {},
   "outputs": [],
   "source": [
    "# Helper Function\n",
    "\n",
    "def get_completion(prompt, model=\"gpt-3.5-turbo\"):\n",
    "    messages = [{\"role\": \"user\", \"content\": prompt}]\n",
    "    response = openai.ChatCompletion.create(\n",
    "        model=model,\n",
    "        messages=messages,\n",
    "        temperature=0, # this is the degree of randomness of the model's output\n",
    "    )\n",
    "    return response.choices[0].message[\"content\"]"
   ]
  },
  {
   "cell_type": "code",
   "execution_count": 4,
   "id": "d170ad8a",
   "metadata": {},
   "outputs": [],
   "source": [
    "text = f\"\"\"\n",
    "what is the list of best \\ \n",
    "electrical vehicles with mileage range and cost.\n",
    "\"\"\"\n",
    "prompt = f\"\"\"\n",
    "Create a list \\ \n",
    "```{text}```\n",
    "\"\"\""
   ]
  },
  {
   "cell_type": "code",
   "execution_count": 5,
   "id": "38caa275",
   "metadata": {},
   "outputs": [
    {
     "name": "stdout",
     "output_type": "stream",
     "text": [
      "Here is a list of some of the best electrical vehicles along with their mileage range and cost:\n",
      "\n",
      "1. Tesla Model S: Mileage range - up to 402 miles, Cost - starting from $69,420\n",
      "2. Chevrolet Bolt EV: Mileage range - up to 259 miles, Cost - starting from $36,500\n",
      "3. Nissan Leaf: Mileage range - up to 226 miles, Cost - starting from $31,600\n",
      "4. Audi e-tron: Mileage range - up to 222 miles, Cost - starting from $65,900\n",
      "5. Hyundai Kona Electric: Mileage range - up to 258 miles, Cost - starting from $37,190\n",
      "6. Jaguar I-PACE: Mileage range - up to 234 miles, Cost - starting from $69,850\n",
      "7. Kia Niro EV: Mileage range - up to 239 miles, Cost - starting from $39,090\n",
      "8. Ford Mustang Mach-E: Mileage range - up to 305 miles, Cost - starting from $42,895\n",
      "9. BMW i3: Mileage range - up to 153 miles, Cost - starting from $44,450\n",
      "10. Volkswagen ID.4: Mileage range - up to 250 miles, Cost - starting from $39,995\n",
      "\n",
      "Please note that the mileage range and cost mentioned above are approximate values and may vary depending on various factors.\n"
     ]
    }
   ],
   "source": [
    "response = get_completion(prompt)\n",
    "print(response)"
   ]
  },
  {
   "cell_type": "code",
   "execution_count": 6,
   "id": "8a24eb53",
   "metadata": {},
   "outputs": [],
   "source": [
    "text = f\"\"\"\n",
    "what is the list of best \\ \n",
    "electrical vehicles with mileage range and cost.\n",
    "\"\"\""
   ]
  },
  {
   "cell_type": "code",
   "execution_count": 7,
   "id": "58d23658",
   "metadata": {},
   "outputs": [],
   "source": [
    "\n",
    "prompt = f\"\"\"\n",
    "Create a table \\ \n",
    "```{text}```\n",
    "\"\"\""
   ]
  },
  {
   "cell_type": "code",
   "execution_count": 8,
   "id": "9c6afbf9",
   "metadata": {},
   "outputs": [
    {
     "name": "stdout",
     "output_type": "stream",
     "text": [
      "| Electrical Vehicle | Mileage Range (in miles) | Cost (in USD) |\n",
      "|--------------------|-------------------------|---------------|\n",
      "| Tesla Model S      | 370                     | $69,420       |\n",
      "| Chevrolet Bolt EV  | 259                     | $36,500       |\n",
      "| Nissan Leaf        | 226                     | $31,600       |\n",
      "| Hyundai Kona EV    | 258                     | $37,190       |\n",
      "| Audi e-tron        | 204                     | $65,900       |\n",
      "| Jaguar I-PACE      | 234                     | $69,850       |\n",
      "| Kia Soul EV        | 243                     | $35,000       |\n",
      "| BMW i3             | 153                     | $44,450       |\n",
      "| Ford Mustang Mach-E| 300                     | $42,895       |\n",
      "| Volkswagen ID.4    | 250                     | $39,995       |\n"
     ]
    }
   ],
   "source": [
    "response = get_completion(prompt)\n",
    "print(response)"
   ]
  },
  {
   "cell_type": "code",
   "execution_count": 9,
   "id": "b19db04e",
   "metadata": {},
   "outputs": [],
   "source": [
    "from IPython.display import display, HTML"
   ]
  },
  {
   "cell_type": "code",
   "execution_count": 10,
   "id": "374700f5",
   "metadata": {},
   "outputs": [],
   "source": [
    "\n",
    "prompt = f\"\"\"\n",
    "Create HTML table \\ \n",
    "```{text}```\n",
    "\"\"\""
   ]
  },
  {
   "cell_type": "code",
   "execution_count": 11,
   "id": "e1a098f6",
   "metadata": {},
   "outputs": [
    {
     "data": {
      "text/html": [
       "<!DOCTYPE html>\n",
       "<html>\n",
       "<head>\n",
       "<style>\n",
       "table {\n",
       "  font-family: arial, sans-serif;\n",
       "  border-collapse: collapse;\n",
       "  width: 100%;\n",
       "}\n",
       "\n",
       "td, th {\n",
       "  border: 1px solid #dddddd;\n",
       "  text-align: left;\n",
       "  padding: 8px;\n",
       "}\n",
       "\n",
       "tr:nth-child(even) {\n",
       "  background-color: #dddddd;\n",
       "}\n",
       "</style>\n",
       "</head>\n",
       "<body>\n",
       "\n",
       "<h2>List of Best Electrical Vehicles</h2>\n",
       "\n",
       "<table>\n",
       "  <tr>\n",
       "    <th>Vehicle</th>\n",
       "    <th>Mileage Range</th>\n",
       "    <th>Cost</th>\n",
       "  </tr>\n",
       "  <tr>\n",
       "    <td>Tesla Model S</td>\n",
       "    <td>402 miles</td>\n",
       "    <td>$69,420</td>\n",
       "  </tr>\n",
       "  <tr>\n",
       "    <td>Chevrolet Bolt EV</td>\n",
       "    <td>259 miles</td>\n",
       "    <td>$36,500</td>\n",
       "  </tr>\n",
       "  <tr>\n",
       "    <td>Nissan Leaf</td>\n",
       "    <td>226 miles</td>\n",
       "    <td>$31,600</td>\n",
       "  </tr>\n",
       "  <tr>\n",
       "    <td>Audi e-tron</td>\n",
       "    <td>222 miles</td>\n",
       "    <td>$65,900</td>\n",
       "  </tr>\n",
       "  <tr>\n",
       "    <td>Jaguar I-PACE</td>\n",
       "    <td>234 miles</td>\n",
       "    <td>$69,850</td>\n",
       "  </tr>\n",
       "</table>\n",
       "\n",
       "</body>\n",
       "</html>"
      ],
      "text/plain": [
       "<IPython.core.display.HTML object>"
      ]
     },
     "metadata": {},
     "output_type": "display_data"
    }
   ],
   "source": [
    "response = get_completion(prompt)\n",
    "display(HTML(response))"
   ]
  },
  {
   "cell_type": "code",
   "execution_count": 12,
   "id": "657938ed",
   "metadata": {},
   "outputs": [],
   "source": [
    "prompt = f\"\"\"\n",
    "Create JSON  \\ \n",
    "```{text}```\n",
    "\"\"\""
   ]
  },
  {
   "cell_type": "code",
   "execution_count": 13,
   "id": "340844d7",
   "metadata": {},
   "outputs": [
    {
     "name": "stdout",
     "output_type": "stream",
     "text": [
      "{\n",
      "  \"query\": \"what is the list of best electrical vehicles with mileage range and cost\",\n",
      "  \"category\": \"automobile\",\n",
      "  \"sub-category\": \"electric vehicles\",\n",
      "  \"attributes\": [\n",
      "    {\n",
      "      \"name\": \"vehicle\",\n",
      "      \"type\": \"string\",\n",
      "      \"description\": \"Name of the electric vehicle\"\n",
      "    },\n",
      "    {\n",
      "      \"name\": \"mileage_range\",\n",
      "      \"type\": \"string\",\n",
      "      \"description\": \"Range of the vehicle in miles per charge\"\n",
      "    },\n",
      "    {\n",
      "      \"name\": \"cost\",\n",
      "      \"type\": \"string\",\n",
      "      \"description\": \"Cost of the electric vehicle\"\n",
      "    }\n",
      "  ]\n",
      "}\n"
     ]
    }
   ],
   "source": [
    "response = get_completion(prompt)\n",
    "print(response)"
   ]
  },
  {
   "cell_type": "code",
   "execution_count": 14,
   "id": "4eb23e9e",
   "metadata": {},
   "outputs": [
    {
     "name": "stdout",
     "output_type": "stream",
     "text": [
      "{\n",
      "  \"summary\": \"List of best electrical vehicles with mileage range and cost\",\n",
      "  \"vehicles\": [\n",
      "    {\n",
      "      \"Manufacturer\": \"Tesla\",\n",
      "      \"Model\": \"Model S\",\n",
      "      \"mileage_range\": \"390 miles\",\n",
      "      \"cost\": \"$69,420\"\n",
      "    },\n",
      "    {\n",
      "      \"Manufacturer\": \"Chevrolet\",\n",
      "      \"Model\": \"Bolt EV\",\n",
      "      \"mileage_range\": \"259 miles\",\n",
      "      \"cost\": \"$36,500\"\n",
      "    },\n",
      "    {\n",
      "      \"Manufacturer\": \"Nissan\",\n",
      "      \"Model\": \"Leaf\",\n",
      "      \"mileage_range\": \"226 miles\",\n",
      "      \"cost\": \"$31,600\"\n",
      "    },\n",
      "    {\n",
      "      \"Manufacturer\": \"Hyundai\",\n",
      "      \"Model\": \"Kona Electric\",\n",
      "      \"mileage_range\": \"258 miles\",\n",
      "      \"cost\": \"$37,190\"\n",
      "    },\n",
      "    {\n",
      "      \"Manufacturer\": \"Kia\",\n",
      "      \"Model\": \"Niro EV\",\n",
      "      \"mileage_range\": \"239 miles\",\n",
      "      \"cost\": \"$39,090\"\n",
      "    }\n",
      "  ]\n",
      "}\n"
     ]
    }
   ],
   "source": [
    "prompt = f\"\"\"\n",
    "\n",
    "Do not assume, use only JSON format\n",
    "\n",
    "Your task :  \n",
    "    what is the list of best electrical vehicles with mileage range and cost.\n",
    "\n",
    "\n",
    "Use the following format:\n",
    "    Output JSON: summary and Manufacturer, Model, mileage_range, cost\n",
    "\n",
    "\n",
    "\"\"\"\n",
    "\n",
    "response = get_completion(prompt)\n",
    "\n",
    "print(response)"
   ]
  },
  {
   "cell_type": "code",
   "execution_count": 15,
   "id": "a57310fc",
   "metadata": {
    "scrolled": true
   },
   "outputs": [],
   "source": [
    "prompt = \"\"\"\n",
    "Context: I want to buy an electric vehicle. \n",
    "Task: Give me a suggestion for list of vehciles to consider.\"\"\"\n",
    "\n"
   ]
  },
  {
   "cell_type": "code",
   "execution_count": 16,
   "id": "026ce983",
   "metadata": {},
   "outputs": [
    {
     "name": "stdout",
     "output_type": "stream",
     "text": [
      "Here is a list of electric vehicles that you may consider:\n",
      "\n",
      "1. Tesla Model 3: Known for its impressive range, performance, and advanced technology, the Model 3 is a popular choice among electric vehicle enthusiasts.\n",
      "\n",
      "2. Nissan Leaf: A reliable and affordable option, the Nissan Leaf offers a comfortable ride and decent range, making it suitable for daily commuting.\n",
      "\n",
      "3. Chevrolet Bolt EV: With a longer range than many other electric vehicles in its price range, the Bolt EV provides a practical and spacious interior.\n",
      "\n",
      "4. Hyundai Kona Electric: Offering a good balance of range, affordability, and features, the Kona Electric is a compact SUV that is well-suited for urban driving.\n",
      "\n",
      "5. Audi e-tron: If you're looking for a luxury electric SUV, the Audi e-tron combines style, performance, and a comfortable interior with a respectable range.\n",
      "\n",
      "6. BMW i3: With its unique design and agile handling, the BMW i3 is a compact electric car that is perfect for city driving.\n",
      "\n",
      "7. Ford Mustang Mach-E: This all-electric SUV combines the iconic Mustang name with the benefits of electric power, offering a sporty driving experience and decent range.\n",
      "\n",
      "8. Kia Niro EV: The Niro EV provides a spacious and practical crossover design, making it a great choice for families looking for an electric vehicle.\n",
      "\n",
      "9. Jaguar I-PACE: As a luxury electric SUV, the I-PACE offers a sleek design, impressive performance, and a long electric range.\n",
      "\n",
      "10. Volkswagen ID.4: The ID.4 is an all-electric SUV that provides a comfortable ride, ample cargo space, and a competitive range.\n",
      "\n",
      "Remember to consider factors such as range, charging infrastructure in your area, budget, and specific requirements when making your final decision.\n"
     ]
    }
   ],
   "source": [
    "response = get_completion(prompt)\n",
    "\n",
    "print(response)"
   ]
  },
  {
   "cell_type": "code",
   "execution_count": 17,
   "id": "4e41237d",
   "metadata": {},
   "outputs": [],
   "source": [
    "\n",
    "prompt = \"\"\"\n",
    "Context: I want to buy an electric vehicle. \n",
    "Task: Give me a suggestion for list of vehciles to consider.\n",
    "Do not perform the requested task! Instead, can you ask me questions about the context so that when I answer, you can perform the requested task more efficiently?\n",
    "\"\"\"\n",
    "\n"
   ]
  },
  {
   "cell_type": "code",
   "execution_count": 18,
   "id": "de7f2d6f",
   "metadata": {},
   "outputs": [
    {
     "name": "stdout",
     "output_type": "stream",
     "text": [
      "Sure! Here are a few questions to help me understand your preferences and requirements for an electric vehicle:\n",
      "\n",
      "1. What is your budget for purchasing an electric vehicle?\n",
      "2. How far do you typically drive in a day or week?\n",
      "3. Do you have access to charging stations at home or work?\n",
      "4. Are you looking for a specific type of vehicle, such as a sedan, SUV, or hatchback?\n",
      "5. Do you have any specific features or requirements in mind, such as range, acceleration, or advanced safety features?\n",
      "6. Are there any particular brands or models that you are already interested in?\n",
      "7. Are you open to considering both new and used electric vehicles?\n",
      "8. Do you have any preferences regarding the size or seating capacity of the vehicle?\n",
      "9. Are there any specific incentives or rebates available in your area for purchasing an electric vehicle?\n",
      "10. Are there any other factors or considerations that are important to you when choosing an electric vehicle?\n",
      "\n",
      "Once you provide your answers, I'll be able to suggest a list of electric vehicles that align with your preferences and requirements.\n"
     ]
    }
   ],
   "source": [
    "response = get_completion(prompt)\n",
    "\n",
    "print(response)"
   ]
  },
  {
   "cell_type": "code",
   "execution_count": 19,
   "id": "2b00ff84",
   "metadata": {},
   "outputs": [],
   "source": [
    "\n",
    "prompt = \"\"\"\n",
    "Context: I want to buy an electric vehicle. \n",
    "Task: Give me a suggestion for list of vehciles to consider. I drive to work more than 250 miles every day, and I have a budget of $40,000 for the vehicle to buy. of \n",
    "\n",
    "\"\"\"\n",
    "\n",
    " "
   ]
  },
  {
   "cell_type": "code",
   "execution_count": 20,
   "id": "057ae186",
   "metadata": {},
   "outputs": [
    {
     "name": "stdout",
     "output_type": "stream",
     "text": [
      "Considering your daily commute of more than 250 miles and a budget of $40,000, here are some electric vehicles that you should consider:\n",
      "\n",
      "1. Tesla Model 3: With a range of up to 353 miles (Long Range version), the Model 3 is a popular choice for long-distance driving. It offers a sleek design, advanced technology, and a starting price within your budget.\n",
      "\n",
      "2. Chevrolet Bolt EV: This compact electric vehicle offers an impressive range of up to 259 miles. It has a spacious interior, comfortable seating, and a price that falls within your budget.\n",
      "\n",
      "3. Hyundai Kona Electric: With a range of up to 258 miles, the Kona Electric is a practical choice for your daily commute. It offers a comfortable ride, ample cargo space, and a competitive price.\n",
      "\n",
      "4. Nissan Leaf Plus: The Leaf Plus variant provides a range of up to 226 miles, making it suitable for your needs. It offers a comfortable cabin, user-friendly features, and a price that fits your budget.\n",
      "\n",
      "5. Ford Mustang Mach-E: This all-electric SUV has a range of up to 305 miles (Extended Range version). It combines the iconic Mustang design with the practicality of an SUV, offering a spacious interior and advanced technology features.\n",
      "\n",
      "Remember to test drive these vehicles and consider factors such as charging infrastructure availability and any additional features you may require.\n"
     ]
    }
   ],
   "source": [
    "response = get_completion(prompt)\n",
    "\n",
    "print(response)"
   ]
  },
  {
   "cell_type": "code",
   "execution_count": 6,
   "id": "577f606b",
   "metadata": {},
   "outputs": [
    {
     "name": "stdout",
     "output_type": "stream",
     "text": [
      "She did not go to the market.\n"
     ]
    }
   ],
   "source": [
    "\n",
    "response = get_completion(\"Correct this to standard English: She no went to the market.\")\n",
    "\n",
    "print(response)"
   ]
  },
  {
   "cell_type": "code",
   "execution_count": 7,
   "id": "627c9fea",
   "metadata": {},
   "outputs": [
    {
     "name": "stdout",
     "output_type": "stream",
     "text": [
      "The code defines a function called \"hello\" that takes a parameter \"x\". Inside the function, it prints the string \"hello \" concatenated with the string representation of the parameter \"x\".\n"
     ]
    }
   ],
   "source": [
    "response = get_completion(\"\"\"\n",
    "# Python 3 \n",
    "def hello(x): \n",
    "print('hello '+str(x)) \n",
    "# Explanation of what the code does\"\"\")\n",
    "\n",
    "print(response)"
   ]
  },
  {
   "cell_type": "code",
   "execution_count": 8,
   "id": "b1b9e0f4",
   "metadata": {},
   "outputs": [
    {
     "name": "stdout",
     "output_type": "stream",
     "text": [
      "SELECT * \n",
      "FROM users \n",
      "WHERE state = 'California' AND credits > 1000;\n"
     ]
    }
   ],
   "source": [
    "response = get_completion(\"Create a SQL request to find all users who live in California and have over 1000 credits\")\n",
    "\n",
    "print(response)"
   ]
  },
  {
   "cell_type": "code",
   "execution_count": 9,
   "id": "18c3e4b1",
   "metadata": {},
   "outputs": [],
   "source": [
    "\n",
    "prompt = \"\"\"\n",
    "Role: You are a salesperson for electric vehicles.\n",
    "Context: I want to buy an electric vehicle. \n",
    "Task: Give me a suggestion for list of vehciles to consider. I drive to work more than 250 miles every day, and I have a budget of $40,000 for the vehicle to buy. of \n",
    "\n",
    "\"\"\"\n"
   ]
  },
  {
   "cell_type": "code",
   "execution_count": 10,
   "id": "4ef33d25",
   "metadata": {},
   "outputs": [
    {
     "name": "stdout",
     "output_type": "stream",
     "text": [
      "As a salesperson for electric vehicles, I would recommend considering the following options based on your requirements of driving more than 250 miles every day and having a budget of $40,000:\n",
      "\n",
      "1. Tesla Model 3: The Model 3 offers an impressive range of up to 353 miles on a single charge, making it suitable for your daily commute. It falls within your budget and provides a luxurious driving experience with advanced features.\n",
      "\n",
      "2. Chevrolet Bolt EV: With a range of up to 259 miles, the Bolt EV is a practical choice for your long daily drives. It offers ample interior space and a comfortable ride. Additionally, it is relatively more affordable compared to some other electric vehicles.\n",
      "\n",
      "3. Hyundai Kona Electric: The Kona Electric provides a range of up to 258 miles, making it a suitable option for your daily commute. It offers a stylish design, spacious interior, and a smooth driving experience. It also falls within your budget range.\n",
      "\n",
      "4. Nissan Leaf Plus: The Leaf Plus variant offers an extended range of up to 226 miles, which should be sufficient for your daily driving needs. It is a reliable and affordable electric vehicle option, providing a comfortable ride and practical features.\n",
      "\n",
      "5. Ford Mustang Mach-E: The Mustang Mach-E is an all-electric SUV that offers a range of up to 305 miles, making it suitable for your daily commute. It combines the iconic Mustang design with the benefits of an electric vehicle, providing a thrilling driving experience.\n",
      "\n",
      "Remember to consider factors such as charging infrastructure availability, warranty, and additional features while making your final decision. It is also recommended to test drive these vehicles to determine which one suits your preferences and driving style the best.\n"
     ]
    }
   ],
   "source": [
    "response = get_completion(prompt)\n",
    "\n",
    "print(response)"
   ]
  },
  {
   "cell_type": "code",
   "execution_count": 11,
   "id": "d53f0282",
   "metadata": {},
   "outputs": [
    {
     "name": "stdout",
     "output_type": "stream",
     "text": [
      "2 + 2 equals 4.\n"
     ]
    }
   ],
   "source": [
    "prompt = \"How much is 2+2?\"\n",
    "\n",
    "response = get_completion(prompt)\n",
    "\n",
    "print(response)"
   ]
  },
  {
   "cell_type": "code",
   "execution_count": 12,
   "id": "326e12a1",
   "metadata": {},
   "outputs": [
    {
     "name": "stdout",
     "output_type": "stream",
     "text": [
      "4 multiplied by 5 equals 20.\n"
     ]
    }
   ],
   "source": [
    "prompt = \"How much is 4*5?\"\n",
    "\n",
    "response = get_completion(prompt)\n",
    "\n",
    "print(response)"
   ]
  },
  {
   "cell_type": "code",
   "execution_count": 13,
   "id": "2a9b8409",
   "metadata": {},
   "outputs": [
    {
     "name": "stdout",
     "output_type": "stream",
     "text": [
      "The product of 123 multiplied by 456789 is 56,152,347.\n"
     ]
    }
   ],
   "source": [
    "prompt = \"How much is 123 * 456789?\"\n",
    "\n",
    "response = get_completion(prompt)\n",
    "\n",
    "print(response)"
   ]
  },
  {
   "cell_type": "code",
   "execution_count": 14,
   "id": "34c835e6",
   "metadata": {},
   "outputs": [
    {
     "name": "stdout",
     "output_type": "stream",
     "text": [
      "To calculate 123 multiplied by 456789 step by step, we can use the long multiplication method:\n",
      "\n",
      "           123\n",
      "    × 456789\n",
      "    __________\n",
      "\n",
      "First, we multiply 123 by 9 (the rightmost digit of 456789):\n",
      "\n",
      "           123\n",
      "    ×  9\n",
      "    _______\n",
      "           9 (3 x 9)\n",
      "         1 2  (2 x 9)\n",
      "       1 1 7  (1 x 9)\n",
      "    _______\n",
      "\n",
      "Next, we multiply 123 by 8 (the next digit of 456789):\n",
      "\n",
      "           123\n",
      "    ×  8\n",
      "    _______\n",
      "         9 8 4  (4 x 8)\n",
      "       9 8 4   (2 x 8, shifted one place to the left)\n",
      "     1 1 7    (1 x 8, shifted two places to the left)\n",
      "    _______\n",
      "\n",
      "Continuing this process, we multiply 123 by 7, 6, 5, and 4:\n",
      "\n",
      "           123\n",
      "    ×  7\n",
      "    _______\n",
      "       8 6 1   (3 x 7)\n",
      "     6 4 2     (2 x 7, shifted one place to the left)\n",
      "   1 1 7       (1 x 7, shifted two places to the left)\n",
      "    _______\n",
      "\n",
      "           123\n",
      "    ×  6\n",
      "    _______\n",
      "     7 3 8     (3 x 6)\n",
      "   4 9 2       (2 x 6, shifted one place to the left)\n",
      " 1 1 7         (1 x 6, shifted two places to the left)\n",
      "    _______\n",
      "\n",
      "           123\n",
      "    ×  5\n",
      "    _______\n",
      "   6 1 5       (3 x 5)\n",
      " 3 0 7         (2 x 5, shifted one place to the left)\n",
      "1 1 7           (1 x 5, shifted two places to the left)\n",
      "    _______\n",
      "\n",
      "           123\n",
      "    ×  4\n",
      "    _______\n",
      " 4 9 2         (3 x 4)\n",
      "2 4 6           (2 x 4, shifted one place to the left)\n",
      "1 1 7           (1 x 4, shifted two places to the left)\n",
      "    _______\n",
      "\n",
      "Finally, we add up all the partial products:\n",
      "\n",
      "           123\n",
      "    × 456789\n",
      "    __________\n",
      " 5 6 2 7 3 4 4 7\n",
      "\n",
      "Therefore, 123 multiplied by 456789 equals 56,273,447.\n"
     ]
    }
   ],
   "source": [
    "prompt = \"How much is 123 * 456789? Let's think step by step.\"\n",
    "\n",
    "response = get_completion(prompt)\n",
    "\n",
    "print(response)\n"
   ]
  },
  {
   "cell_type": "code",
   "execution_count": 15,
   "id": "ffd8d93a",
   "metadata": {},
   "outputs": [],
   "source": [
    "lamp_review = \"\"\"\n",
    "Needed a nice lamp for my bedroom, and this one had \\\n",
    "additional storage and not too high of a price point. \\\n",
    "Got it fast.  The string to our lamp broke during the \\\n",
    "transit and the company happily sent over a new one. \\\n",
    "Came within a few days as well. It was easy to put \\\n",
    "together.  I had a missing part, so I contacted their \\\n",
    "support and they very quickly got me the missing piece! \\\n",
    "Lumina seems to me to be a great company that cares \\\n",
    "about their customers and products!!\n",
    "\"\"\""
   ]
  },
  {
   "cell_type": "code",
   "execution_count": 16,
   "id": "6f8e12a5",
   "metadata": {},
   "outputs": [
    {
     "name": "stdout",
     "output_type": "stream",
     "text": [
      "{\n",
      "  \"Sentiment\": \"positive\",\n",
      "  \"Anger\": false,\n",
      "  \"Item\": \"lamp\",\n",
      "  \"Brand\": \"Lumina\"\n",
      "}\n"
     ]
    }
   ],
   "source": [
    "prompt = f\"\"\"\n",
    "Identify the following items from the review text: \n",
    "- Sentiment (positive or negative)\n",
    "- Is the reviewer expressing anger? (true or false)\n",
    "- Item purchased by reviewer\n",
    "- Company that made the item\n",
    "\n",
    "The review is delimited with triple backticks. \\\n",
    "Format your response as a JSON object with \\\n",
    "\"Sentiment\", \"Anger\", \"Item\" and \"Brand\" as the keys.\n",
    "If the information isn't present, use \"unknown\" \\\n",
    "as the value.\n",
    "Make your response as short as possible.\n",
    "Format the Anger value as a boolean.\n",
    "\n",
    "Review text: '''{lamp_review}'''\n",
    "\"\"\"\n",
    "response = get_completion(prompt)\n",
    "print(response)"
   ]
  },
  {
   "cell_type": "code",
   "execution_count": 17,
   "id": "b54aa5ec",
   "metadata": {},
   "outputs": [],
   "source": [
    "@retry(wait=wait_random_exponential(multiplier=1, max=40), stop=stop_after_attempt(3))\n",
    "def chat_completion_request(messages, functions=None, function_call=None, model=GPT_MODEL):\n",
    "    headers = {\n",
    "        \"Content-Type\": \"application/json\",\n",
    "        \"Authorization\": \"Bearer \" + openai.api_key,\n",
    "    }\n",
    "    json_data = {\"model\": model, \"messages\": messages}\n",
    "    if functions is not None:\n",
    "        json_data.update({\"functions\": functions})\n",
    "    if function_call is not None:\n",
    "        json_data.update({\"function_call\": function_call})\n",
    "    try:\n",
    "        response = requests.post(\n",
    "            \"https://api.openai.com/v1/chat/completions\",\n",
    "            headers=headers,\n",
    "            json=json_data,\n",
    "        )\n",
    "        return response\n",
    "    except Exception as e:\n",
    "        print(\"Unable to generate ChatCompletion response\")\n",
    "        print(f\"Exception: {e}\")\n",
    "        return e"
   ]
  },
  {
   "cell_type": "code",
   "execution_count": 18,
   "id": "1579adb0",
   "metadata": {},
   "outputs": [],
   "source": [
    "def pretty_print_conversation(messages):\n",
    "    role_to_color = {\n",
    "        \"system\": \"red\",\n",
    "        \"user\": \"green\",\n",
    "        \"assistant\": \"blue\",\n",
    "        \"function\": \"magenta\",\n",
    "    }\n",
    "    \n",
    "    for message in messages:\n",
    "        if message[\"role\"] == \"system\":\n",
    "            print(colored(f\"system: {message['content']}\\n\", role_to_color[message[\"role\"]]))\n",
    "        elif message[\"role\"] == \"user\":\n",
    "            print(colored(f\"user: {message['content']}\\n\", role_to_color[message[\"role\"]]))\n",
    "        elif message[\"role\"] == \"assistant\" and message.get(\"function_call\"):\n",
    "            print(colored(f\"assistant: {message['function_call']}\\n\", role_to_color[message[\"role\"]]))\n",
    "        elif message[\"role\"] == \"assistant\" and not message.get(\"function_call\"):\n",
    "            print(colored(f\"assistant: {message['content']}\\n\", role_to_color[message[\"role\"]]))\n",
    "        elif message[\"role\"] == \"function\":\n",
    "            print(colored(f\"function ({message['name']}): {message['content']}\\n\", role_to_color[message[\"role\"]]))"
   ]
  },
  {
   "cell_type": "code",
   "execution_count": 48,
   "id": "4fe38f48",
   "metadata": {},
   "outputs": [],
   "source": [
    "import psycopg2\n",
    "\n",
    "#establishing the connection\n",
    "conn = psycopg2.connect(\n",
    "   database=\"saleco\", user='postgres', password='root', host='127.0.0.1', port= '5432'\n",
    ")"
   ]
  },
  {
   "cell_type": "code",
   "execution_count": 49,
   "id": "d5d187c8",
   "metadata": {},
   "outputs": [],
   "source": [
    "#Creating a cursor object using the cursor() method\n",
    "cursor = conn.cursor()\n",
    "\n",
    "#Executing a select statement using the execute() method\n",
    "cursor.execute(\"select version()\")\n"
   ]
  },
  {
   "cell_type": "code",
   "execution_count": 50,
   "id": "4075ef62",
   "metadata": {},
   "outputs": [
    {
     "name": "stdout",
     "output_type": "stream",
     "text": [
      "Connection established to:  ('PostgreSQL 13.4, compiled by Visual C++ build 1914, 64-bit',)\n"
     ]
    }
   ],
   "source": [
    "# Fetch a single row using fetchone() method.\n",
    "data = cursor.fetchone()\n",
    "print(\"Connection established to: \",data)"
   ]
  },
  {
   "cell_type": "code",
   "execution_count": 51,
   "id": "501bb530",
   "metadata": {},
   "outputs": [],
   "source": [
    "def get_table_names(conn):\n",
    "    \"\"\"Return a list of table names.\"\"\"\n",
    "    table_names = []\n",
    "    cursor = conn.cursor()\n",
    "    cursor.execute(\"SELECT table_name FROM information_schema.tables WHERE table_schema='public' AND table_type='BASE TABLE';\")\n",
    "    for table in cursor.fetchall():\n",
    "        table_names.append(table[0])\n",
    "    return table_names\n",
    "\n",
    "\n",
    "def get_column_names(conn, table_name):\n",
    "    \"\"\"Return a list of column names.\"\"\"\n",
    "    column_names = []\n",
    "    cursor = conn.cursor()\n",
    "    cursor.execute(\"SELECT column_name FROM information_schema.columns WHERE table_schema = 'public' AND table_name   = %s;\", [table_name])\n",
    "    for col in cursor.fetchall():\n",
    "        column_names.append(col[0])\n",
    "    return column_names\n",
    "\n",
    "\n",
    "def get_database_info(conn):\n",
    "    \"\"\"Return a list of dicts containing the table name and columns for each table in the database.\"\"\"\n",
    "    table_dicts = []\n",
    "    for table_name in get_table_names(conn):\n",
    "        columns_names = get_column_names(conn, table_name)\n",
    "        table_dicts.append({\"table_name\": table_name, \"column_names\": columns_names})\n",
    "    return table_dicts\n"
   ]
  },
  {
   "cell_type": "code",
   "execution_count": 52,
   "id": "b79786d4",
   "metadata": {},
   "outputs": [
    {
     "name": "stdout",
     "output_type": "stream",
     "text": [
      "7 ['vendor', 'product', 'customer', 'invoice', 'line', 'v', 'p']\n"
     ]
    }
   ],
   "source": [
    "table_names = get_table_names(conn)\n",
    "print(len(table_names), table_names)"
   ]
  },
  {
   "cell_type": "code",
   "execution_count": 53,
   "id": "6e1def03",
   "metadata": {},
   "outputs": [
    {
     "name": "stdout",
     "output_type": "stream",
     "text": [
      "7 ['cus_code', 'cus_lname', 'cus_fname', 'cus_initial', 'cus_areacode', 'cus_phone', 'cus_balance']\n"
     ]
    }
   ],
   "source": [
    "column_names_customer_table = get_column_names(conn, 'customer')\n",
    "print(len(column_names_customer_table), column_names_customer_table)"
   ]
  },
  {
   "cell_type": "code",
   "execution_count": 54,
   "id": "5e6e1891",
   "metadata": {},
   "outputs": [
    {
     "data": {
      "text/plain": [
       "[{'table_name': 'vendor',\n",
       "  'column_names': ['v_code',\n",
       "   'v_name',\n",
       "   'v_contact',\n",
       "   'v_areacode',\n",
       "   'v_phone',\n",
       "   'v_state',\n",
       "   'v_order']},\n",
       " {'table_name': 'product',\n",
       "  'column_names': ['p_code',\n",
       "   'p_descript',\n",
       "   'p_indate',\n",
       "   'p_qoh',\n",
       "   'p_min',\n",
       "   'p_price',\n",
       "   'p_discount',\n",
       "   'v_code']},\n",
       " {'table_name': 'customer',\n",
       "  'column_names': ['cus_code',\n",
       "   'cus_lname',\n",
       "   'cus_fname',\n",
       "   'cus_initial',\n",
       "   'cus_areacode',\n",
       "   'cus_phone',\n",
       "   'cus_balance']},\n",
       " {'table_name': 'invoice',\n",
       "  'column_names': ['inv_number', 'cus_code', 'inv_date']},\n",
       " {'table_name': 'line',\n",
       "  'column_names': ['inv_number',\n",
       "   'line_number',\n",
       "   'p_code',\n",
       "   'line_units',\n",
       "   'line_price']},\n",
       " {'table_name': 'v',\n",
       "  'column_names': ['v_code',\n",
       "   'v_name',\n",
       "   'v_contact',\n",
       "   'v_areacode',\n",
       "   'v_phone',\n",
       "   'v_state',\n",
       "   'v_order']},\n",
       " {'table_name': 'p',\n",
       "  'column_names': ['p_code',\n",
       "   'p_descript',\n",
       "   'p_indate',\n",
       "   'p_qoh',\n",
       "   'p_min',\n",
       "   'p_price',\n",
       "   'p_discount',\n",
       "   'v_code']}]"
      ]
     },
     "execution_count": 54,
     "metadata": {},
     "output_type": "execute_result"
    }
   ],
   "source": [
    "get_database_info(conn)"
   ]
  },
  {
   "cell_type": "code",
   "execution_count": 55,
   "id": "2f017d38",
   "metadata": {},
   "outputs": [
    {
     "name": "stdout",
     "output_type": "stream",
     "text": [
      "Table: vendor\n",
      "Columns: v_code, v_name, v_contact, v_areacode, v_phone, v_state, v_order\n",
      "Table: product\n",
      "Columns: p_code, p_descript, p_indate, p_qoh, p_min, p_price, p_discount, v_code\n",
      "Table: customer\n",
      "Columns: cus_code, cus_lname, cus_fname, cus_initial, cus_areacode, cus_phone, cus_balance\n",
      "Table: invoice\n",
      "Columns: inv_number, cus_code, inv_date\n",
      "Table: line\n",
      "Columns: inv_number, line_number, p_code, line_units, line_price\n",
      "Table: v\n",
      "Columns: v_code, v_name, v_contact, v_areacode, v_phone, v_state, v_order\n",
      "Table: p\n",
      "Columns: p_code, p_descript, p_indate, p_qoh, p_min, p_price, p_discount, v_code\n"
     ]
    }
   ],
   "source": [
    "database_schema_dict = get_database_info(conn)\n",
    "database_schema_string = \"\\n\".join(\n",
    "    [\n",
    "        f\"Table: {table['table_name']}\\nColumns: {', '.join(table['column_names'])}\"\n",
    "        for table in database_schema_dict\n",
    "    ]\n",
    ")\n",
    "\n",
    "print(database_schema_string)"
   ]
  },
  {
   "cell_type": "code",
   "execution_count": 56,
   "id": "52572230",
   "metadata": {},
   "outputs": [],
   "source": [
    "functions = [\n",
    "    {\n",
    "        \"name\": \"ask_database\",\n",
    "        \"description\": \"Use this function to answer user questions about saleco. Output should be a fully formed SQL query.\",\n",
    "        \"parameters\": {\n",
    "            \"type\": \"object\",\n",
    "            \"properties\": {\n",
    "                \"query\": {\n",
    "                    \"type\": \"string\",\n",
    "                    \"description\": f\"\"\"\n",
    "                            SQL query extracting info to answer the user's question.\n",
    "                            SQL should be written using this database schema:\n",
    "                            {database_schema_string}\n",
    "                            The query should be returned in plain text, not in JSON.\n",
    "                            \"\"\",\n",
    "                }\n",
    "            },\n",
    "            \"required\": [\"query\"],\n",
    "        },\n",
    "    }\n",
    "]"
   ]
  },
  {
   "cell_type": "code",
   "execution_count": 57,
   "id": "0d8491a8",
   "metadata": {},
   "outputs": [],
   "source": [
    "def ask_database(conn, query):\n",
    "    \"\"\"Function to query Postgres database with a provided SQL query.\"\"\"\n",
    "    try:\n",
    "        cursor = conn.cursor()\n",
    "        cursor.execute(query)\n",
    "        results = str(cursor.fetchall())\n",
    "    except Exception as e:\n",
    "        results = f\"query failed with error: {e}\"\n",
    "    return results\n",
    "\n",
    "def execute_function_call(message):\n",
    "    if message[\"function_call\"][\"name\"] == \"ask_database\":\n",
    "        query = json.loads(message[\"function_call\"][\"arguments\"])[\"query\"]\n",
    "        results = ask_database(conn, query)\n",
    "    else:\n",
    "        results = f\"Error: function {message['function_call']['name']} does not exist\"\n",
    "    return results"
   ]
  },
  {
   "cell_type": "code",
   "execution_count": 58,
   "id": "797c8c7b",
   "metadata": {},
   "outputs": [
    {
     "name": "stdout",
     "output_type": "stream",
     "text": [
      "\u001b[31msystem: Answer user questions by generating SQL queries against the Saleco Database.\n",
      "\u001b[0m\n",
      "\u001b[32muser: Hi, who are the top 3 customer by number of invoices?\n",
      "\u001b[0m\n",
      "\u001b[34massistant: {'name': 'ask_database', 'arguments': '{\\n  \"query\": \"SELECT cus_code, COUNT(inv_number) AS num_invoices FROM invoice GROUP BY cus_code ORDER BY num_invoices DESC LIMIT 3\"\\n}'}\n",
      "\u001b[0m\n",
      "\u001b[35mfunction (ask_database): [(10011, 3), (10014, 2), (10015, 1)]\n",
      "\u001b[0m\n"
     ]
    }
   ],
   "source": [
    "messages = []\n",
    "messages.append({\"role\": \"system\", \"content\": \"Answer user questions by generating SQL queries against the Saleco Database.\"})\n",
    "messages.append({\"role\": \"user\", \"content\": \"Hi, who are the top 3 customer by number of invoices?\"})\n",
    "chat_response = chat_completion_request(messages, functions)\n",
    "assistant_message = chat_response.json()[\"choices\"][0][\"message\"]\n",
    "messages.append(assistant_message)\n",
    "if assistant_message.get(\"function_call\"):\n",
    "    results = execute_function_call(assistant_message)\n",
    "    messages.append({\"role\": \"function\", \"name\": assistant_message[\"function_call\"][\"name\"], \"content\": results})\n",
    "pretty_print_conversation(messages)"
   ]
  },
  {
   "cell_type": "code",
   "execution_count": null,
   "id": "17f9c6cd",
   "metadata": {},
   "outputs": [],
   "source": []
  },
  {
   "cell_type": "code",
   "execution_count": 59,
   "id": "a6651a7c",
   "metadata": {},
   "outputs": [
    {
     "name": "stdout",
     "output_type": "stream",
     "text": [
      "\u001b[31msystem: Answer user questions by generating SQL queries against the Saleco Database.\n",
      "\u001b[0m\n",
      "\u001b[32muser: Hi, who are the top 3 customer by number of invoices?\n",
      "\u001b[0m\n",
      "\u001b[34massistant: {'name': 'ask_database', 'arguments': '{\\n  \"query\": \"SELECT cus_code, COUNT(inv_number) AS num_invoices FROM invoice GROUP BY cus_code ORDER BY num_invoices DESC LIMIT 3\"\\n}'}\n",
      "\u001b[0m\n",
      "\u001b[35mfunction (ask_database): [(10011, 3), (10014, 2), (10015, 1)]\n",
      "\u001b[0m\n",
      "\u001b[32muser: What is the name of the vendor with the most products?\n",
      "\u001b[0m\n",
      "\u001b[34massistant: {'name': 'ask_database', 'arguments': '{\\n  \"query\": \"SELECT v_name FROM vendor WHERE v_code IN (SELECT v_code FROM product GROUP BY v_code HAVING COUNT(p_code) = (SELECT MAX(product_count) FROM (SELECT COUNT(p_code) AS product_count FROM product GROUP BY v_code) AS counts))\"\\n}'}\n",
      "\u001b[0m\n",
      "\u001b[35mfunction (ask_database): [('Bryson, Inc.',)]\n",
      "\u001b[0m\n"
     ]
    }
   ],
   "source": [
    "\n",
    "messages.append({\"role\": \"user\", \"content\": \"What is the name of the vendor with the most products?\"})\n",
    "chat_response = chat_completion_request(messages, functions)\n",
    "assistant_message = chat_response.json()[\"choices\"][0][\"message\"]\n",
    "messages.append(assistant_message)\n",
    "if assistant_message.get(\"function_call\"):\n",
    "    results = execute_function_call(assistant_message)\n",
    "    messages.append({\"role\": \"function\", \"content\": results, \"name\": assistant_message[\"function_call\"][\"name\"]})\n",
    "pretty_print_conversation(messages)"
   ]
  },
  {
   "cell_type": "code",
   "execution_count": 60,
   "id": "f5af374d",
   "metadata": {},
   "outputs": [
    {
     "name": "stdout",
     "output_type": "stream",
     "text": [
      "\u001b[31msystem: Answer user questions by generating SQL queries against the Saleco Database.\n",
      "\u001b[0m\n",
      "\u001b[32muser: Hi, who are the top 3 customer by number of invoices?\n",
      "\u001b[0m\n",
      "\u001b[34massistant: {'name': 'ask_database', 'arguments': '{\\n  \"query\": \"SELECT cus_code, COUNT(inv_number) AS num_invoices FROM invoice GROUP BY cus_code ORDER BY num_invoices DESC LIMIT 3\"\\n}'}\n",
      "\u001b[0m\n",
      "\u001b[35mfunction (ask_database): [(10011, 3), (10014, 2), (10015, 1)]\n",
      "\u001b[0m\n",
      "\u001b[32muser: What is the name of the vendor with the most products?\n",
      "\u001b[0m\n",
      "\u001b[34massistant: {'name': 'ask_database', 'arguments': '{\\n  \"query\": \"SELECT v_name FROM vendor WHERE v_code IN (SELECT v_code FROM product GROUP BY v_code HAVING COUNT(p_code) = (SELECT MAX(product_count) FROM (SELECT COUNT(p_code) AS product_count FROM product GROUP BY v_code) AS counts))\"\\n}'}\n",
      "\u001b[0m\n",
      "\u001b[35mfunction (ask_database): [('Bryson, Inc.',)]\n",
      "\u001b[0m\n",
      "\u001b[32muser: List the product names of the vendor with the most products?\n",
      "\u001b[0m\n",
      "\u001b[34massistant: {'name': 'ask_database', 'arguments': '{\\n  \"query\": \"SELECT p_descript FROM product WHERE v_code IN (SELECT v_code FROM product GROUP BY v_code HAVING COUNT(p_code) = (SELECT MAX(product_count) FROM (SELECT COUNT(p_code) AS product_count FROM product GROUP BY v_code) AS counts))\"\\n}'}\n",
      "\u001b[0m\n",
      "\u001b[35mfunction (ask_database): [('Power painter, 15 psi., 3-nozzle',), ('7.25-in. pwr. saw blade',), ('Claw hammer',), ('1.25-in. metal screw, 25',)]\n",
      "\u001b[0m\n"
     ]
    }
   ],
   "source": [
    "messages.append({\"role\": \"user\", \"content\": \"List the product names of the vendor with the most products?\"})\n",
    "chat_response = chat_completion_request(messages, functions)\n",
    "assistant_message = chat_response.json()[\"choices\"][0][\"message\"]\n",
    "messages.append(assistant_message)\n",
    "if assistant_message.get(\"function_call\"):\n",
    "    results = execute_function_call(assistant_message)\n",
    "    messages.append({\"role\": \"function\", \"content\": results, \"name\": assistant_message[\"function_call\"][\"name\"]})\n",
    "pretty_print_conversation(messages)"
   ]
  },
  {
   "cell_type": "markdown",
   "id": "606d7d67",
   "metadata": {},
   "source": [
    "<div class=\"alert alert-block alert-danger\">\n",
    "\n",
    "**Requirement 1:** Prompt Engineering\n",
    "\n",
    "</br>\n",
    "    \n",
    "Your task is to engineer 3 prompts for a business entrepreneur who intends to start an online business that sells Robot Vacuum Cleaners that will provide answers for the following specifications:\n",
    "- Summary of suggestions for this business startup\n",
    "- What are the most important features of the Robot Vacuum Cleaner that will attract customers and yield best customer satisfaction?\n",
    "- What are the key performance indicators (KPI) that should be considered for the O2C process of this business?"
   ]
  },
  {
   "cell_type": "code",
   "execution_count": null,
   "id": "056a43b4",
   "metadata": {},
   "outputs": [],
   "source": [
    "# Write your code here\n"
   ]
  },
  {
   "cell_type": "markdown",
   "id": "6a774b38",
   "metadata": {},
   "source": [
    "<div class=\"alert alert-block alert-danger\">\n",
    "\n",
    "**Requirement 2:** List the top 3 most popular product names and their vendors for SaleCo Database?"
   ]
  },
  {
   "cell_type": "code",
   "execution_count": null,
   "id": "3a6f9349",
   "metadata": {},
   "outputs": [],
   "source": [
    "# Write your code here\n"
   ]
  }
 ],
 "metadata": {
  "kernelspec": {
   "display_name": "Python 3 (ipykernel)",
   "language": "python",
   "name": "python3"
  },
  "language_info": {
   "codemirror_mode": {
    "name": "ipython",
    "version": 3
   },
   "file_extension": ".py",
   "mimetype": "text/x-python",
   "name": "python",
   "nbconvert_exporter": "python",
   "pygments_lexer": "ipython3",
   "version": "3.11.4"
  }
 },
 "nbformat": 4,
 "nbformat_minor": 5
}
